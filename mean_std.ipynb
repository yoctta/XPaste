{
 "cells": [
  {
   "cell_type": "code",
   "execution_count": 1,
   "metadata": {},
   "outputs": [],
   "source": [
    "import json\n",
    "from matplotlib import pyplot as plt\n",
    "import numpy as np\n",
    "with open('lvis_v1_train.json') as f:\n",
    "    a=json.load(f)\n"
   ]
  },
  {
   "cell_type": "code",
   "execution_count": 17,
   "metadata": {},
   "outputs": [],
   "source": [
    "from collections import defaultdict\n",
    "\n",
    "d=defaultdict(list)\n",
    "img_area={}\n",
    "for i in a['images']:\n",
    "    img_area[i['id']]=i['width']*i['height']\n",
    "\n",
    "    \n",
    "for i in a['annotations']:\n",
    "    d[i['category_id']].append(i['bbox'][2]*i['bbox'][3]/img_area[i['image_id']])\n"
   ]
  },
  {
   "cell_type": "code",
   "execution_count": 37,
   "metadata": {},
   "outputs": [
    {
     "data": {
      "image/png": "[encoded data removed]",
      "text/plain": [
       "<Figure size 432x288 with 1 Axes>"
      ]
     },
     "metadata": {
      "needs_background": "light"
     },
     "output_type": "display_data"
    }
   ],
   "source": [
    "import numpy as np\n",
    "from scipy.stats import norm\n",
    "x=np.sqrt(np.array(d[5]))\n",
    "mu,std=np.mean(x),np.std(x)\n",
    "x2=np.linspace(0,mu+3*std,100)\n",
    "y=norm.pdf(x2,mu,std)\n",
    "plt.hist(x, bins=100, density=True, alpha=0.6, color='g')\n",
    "plt.plot(x2,y,color='r')\n",
    "plt.xlabel('Value')\n",
    "plt.ylabel('Frequency')\n",
    "plt.title('Distribution')\n",
    "\n",
    "plt.show()\n"
   ]
  },
  {
   "cell_type": "code",
   "execution_count": 38,
   "metadata": {},
   "outputs": [],
   "source": [
    "p={}\n",
    "for i in d:\n",
    "    x=np.sqrt(np.array(d[i]))\n",
    "    mu,std=np.mean(x),np.std(x)\n",
    "    p[i]=[mu,std]\n",
    "\n",
    "with open('area_mean_std2.json','w') as f:\n",
    "    json.dump(p,f)"
   ]
  },
  {
   "cell_type": "code",
   "execution_count": null,
   "metadata": {},
   "outputs": [],
   "source": []
  }
 ],
 "metadata": {
  "kernelspec": {
   "display_name": "py3x",
   "language": "python",
   "name": "python3"
  },
  "language_info": {
   "codemirror_mode": {
    "name": "ipython",
    "version": 3
   },
   "file_extension": ".py",
   "mimetype": "text/x-python",
   "name": "python",
   "nbconvert_exporter": "python",
   "pygments_lexer": "ipython3",
   "version": "3.10.5"
  },
  "orig_nbformat": 4
 },
 "nbformat": 4,
 "nbformat_minor": 2
}
